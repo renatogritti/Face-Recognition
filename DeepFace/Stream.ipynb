{
 "cells": [
  {
   "cell_type": "code",
   "execution_count": 1,
   "id": "framed-necklace",
   "metadata": {},
   "outputs": [
    {
     "output_type": "stream",
     "name": "stdout",
     "text": [
      "VGG-Face  is built\n",
      "Emotion model loaded\n",
      "Age model loaded\n",
      "Finding embedding for Leticia1.jpg:   0%|          | 0/16 [00:00<?, ?it/s]Gender model loaded\n",
      "Facial attibute analysis models loaded in  6.261789798736572  seconds\n",
      "Finding embedding for temp.jpg: 100%|██████████| 16/16 [00:07<00:00,  2.20it/s]\n",
      "Embeddings found for given data set in  7.280880451202393  seconds\n"
     ]
    }
   ],
   "source": [
    "from deepface import DeepFace\n",
    "#DeepFace.stream(\"C:\\\\fotos\")\n",
    "DeepFace.stream(\"C:\\\\Users\\\\Renato\\\\OneDrive - everis\\\\Pessoal\\\\AI\\\\Products\\\\Iknowu\\\\DeepFace\\\\fotos\")"
   ]
  },
  {
   "cell_type": "code",
   "execution_count": null,
   "id": "above-coach",
   "metadata": {},
   "outputs": [],
   "source": []
  }
 ],
 "metadata": {
  "kernelspec": {
   "name": "python388jvsc74a57bd067950b92c7c5e9acc2fc5c5d95ffab2d0abd8d68100f9b0ca305e2e09b0fefd1",
   "display_name": "Python 3.8.8 64-bit (conda)"
  },
  "language_info": {
   "codemirror_mode": {
    "name": "ipython",
    "version": 3
   },
   "file_extension": ".py",
   "mimetype": "text/x-python",
   "name": "python",
   "nbconvert_exporter": "python",
   "pygments_lexer": "ipython3",
   "version": "3.8.8-final"
  }
 },
 "nbformat": 4,
 "nbformat_minor": 5
}