{
 "cells": [
  {
   "cell_type": "code",
   "execution_count": 1,
   "metadata": {},
   "outputs": [],
   "source": [
    "import cv2\n",
    "import numpy as np\n",
    "import tensorflow as tf\n",
    "import os"
   ]
  },
  {
   "cell_type": "code",
   "execution_count": 2,
   "metadata": {},
   "outputs": [
    {
     "data": {
      "text/plain": [
       "'2.3.0'"
      ]
     },
     "execution_count": 2,
     "metadata": {},
     "output_type": "execute_result"
    }
   ],
   "source": [
    "tf.__version__"
   ]
  },
  {
   "cell_type": "code",
   "execution_count": 3,
   "metadata": {},
   "outputs": [
    {
     "name": "stdout",
     "output_type": "stream",
     "text": [
      "WARNING:tensorflow:No training configuration found in the save file, so the model was *not* compiled. Compile it manually.\n"
     ]
    }
   ],
   "source": [
    "model = tf.keras.models.load_model(\"facenet_keras.h5\")"
   ]
  },
  {
   "cell_type": "code",
   "execution_count": 4,
   "metadata": {},
   "outputs": [],
   "source": [
    "def get_embedding(model, face):\n",
    "    # scale pixel values\n",
    "    face = face.astype('float32')\n",
    "    # standardization\n",
    "    mean, std = face.mean(), face.std()\n",
    "    face = (face-mean)/std\n",
    "    # transfer face into one sample (3 dimension to 4 dimension)\n",
    "    sample = np.expand_dims(face, axis=0)\n",
    "    # make prediction to get embedding\n",
    "    yhat = model.predict(sample)\n",
    "    return yhat[0]"
   ]
  },
  {
   "cell_type": "code",
   "execution_count": 8,
   "metadata": {},
   "outputs": [],
   "source": [
    "def getImagemComId():\n",
    "    caminhos = [os.path.join('fotos',f) for f in os.listdir('fotos')]\n",
    "    faces =[]\n",
    "    ids = []\n",
    "    for caminhoImagem in caminhos:\n",
    "        imageFace = cv2.cvtColor(cv2.imread(caminhoImagem),cv2.COLOR_BGR2RGB)\n",
    "        imageFace = cv2.resize(imageFace, (160, 160))\n",
    "        id = int(os.path.split(caminhoImagem)[-1].split('.')[1])\n",
    "        ids.append(id)\n",
    "        emd = get_embedding(model, imageFace)\n",
    "        faces.append(emd)\n",
    "    return np.array(ids), faces"
   ]
  },
  {
   "cell_type": "code",
   "execution_count": 6,
   "metadata": {},
   "outputs": [
    {
     "name": "stdout",
     "output_type": "stream",
     "text": [
      "Embeddings...\n"
     ]
    }
   ],
   "source": [
    "ids,faces = getImagemComId()\n",
    "\n",
    "print('Embeddings...')"
   ]
  },
  {
   "cell_type": "code",
   "execution_count": 10,
   "metadata": {},
   "outputs": [
    {
     "name": "stdout",
     "output_type": "stream",
     "text": [
      "1.0\n"
     ]
    }
   ],
   "source": [
    "from sklearn.metrics import accuracy_score\n",
    "from sklearn.preprocessing import LabelEncoder\n",
    "from sklearn.preprocessing import Normalizer\n",
    "from sklearn.svm import SVC\n",
    "\n",
    "\n",
    "# normalize input vectors\n",
    "in_encoder = Normalizer()\n",
    "emdTrainX_norm = in_encoder.transform(faces)\n",
    "# label encode targets\n",
    "out_encoder = LabelEncoder()\n",
    "out_encoder.fit(ids)\n",
    "trainy_enc = out_encoder.transform(ids)\n",
    "# fit model\n",
    "modelSVC = SVC(kernel='linear', probability=True)\n",
    "modelSVC.fit(emdTrainX_norm, trainy_enc)\n",
    "\n",
    "\n",
    "# predict\n",
    "yhat_train = modelSVC.predict(emdTrainX_norm)\n",
    "# score\n",
    "score_train = accuracy_score(trainy_enc, yhat_train)\n",
    "# summarize\n",
    "print(score_train)"
   ]
  },
  {
   "cell_type": "code",
   "execution_count": 24,
   "metadata": {},
   "outputs": [
    {
     "name": "stdout",
     "output_type": "stream",
     "text": [
      "(1, 128)\n"
     ]
    },
    {
     "data": {
      "text/plain": [
       "2"
      ]
     },
     "execution_count": 24,
     "metadata": {},
     "output_type": "execute_result"
    }
   ],
   "source": [
    "faces = []\n",
    "imageFace = cv2.cvtColor(cv2.imread(\"fotos//pessoa.3.1.jpg\"),cv2.COLOR_BGR2RGB)\n",
    "imageFace = cv2.resize(imageFace, (160, 160))\n",
    "face = get_embedding(model, imageFace)\n",
    "faces.append(face)\n",
    "print(np.shape(faces))\n",
    "in_encoder = Normalizer()\n",
    "emdTrainX_norm = in_encoder.transform(faces)\n",
    "\n",
    "yhat = modelSVC.predict(emdTrainX_norm)\n",
    "\n",
    "yhat[0]\n",
    "\n"
   ]
  },
  {
   "cell_type": "code",
   "execution_count": 11,
   "metadata": {},
   "outputs": [],
   "source": [
    "import pickle\n",
    "filename = 'SVC_model.sav'\n",
    "pickle.dump(modelSVC, open(filename, 'wb'))\n"
   ]
  },
  {
   "cell_type": "code",
   "execution_count": null,
   "metadata": {},
   "outputs": [],
   "source": []
  }
 ],
 "metadata": {
  "kernelspec": {
   "display_name": "Python 3",
   "language": "python",
   "name": "python3"
  },
  "language_info": {
   "codemirror_mode": {
    "name": "ipython",
    "version": 3
   },
   "file_extension": ".py",
   "mimetype": "text/x-python",
   "name": "python",
   "nbconvert_exporter": "python",
   "pygments_lexer": "ipython3",
   "version": "3.7.10"
  }
 },
 "nbformat": 4,
 "nbformat_minor": 4
}
