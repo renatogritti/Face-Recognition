{
 "cells": [
  {
   "cell_type": "code",
   "execution_count": 3,
   "id": "78111b0b",
   "metadata": {},
   "outputs": [],
   "source": [
    "import cv2\n",
    "import numpy as np\n",
    "import tensorflow as tf\n",
    "import os\n",
    "\n",
    "from sklearn.metrics import accuracy_score\n",
    "from sklearn.preprocessing import LabelEncoder\n",
    "from sklearn.preprocessing import Normalizer\n",
    "from sklearn.svm import SVC"
   ]
  },
  {
   "cell_type": "code",
   "execution_count": 4,
   "id": "3eb0d89a",
   "metadata": {},
   "outputs": [
    {
     "data": {
      "text/plain": [
       "'2.4.1'"
      ]
     },
     "execution_count": 4,
     "metadata": {},
     "output_type": "execute_result"
    }
   ],
   "source": [
    "tf.__version__"
   ]
  },
  {
   "cell_type": "code",
   "execution_count": 5,
   "id": "fa2ef15f",
   "metadata": {},
   "outputs": [
    {
     "name": "stdout",
     "output_type": "stream",
     "text": [
      "WARNING:tensorflow:No training configuration found in the save file, so the model was *not* compiled. Compile it manually.\n"
     ]
    }
   ],
   "source": [
    "model = tf.keras.models.load_model(\"facenet_keras.h5\")"
   ]
  },
  {
   "cell_type": "code",
   "execution_count": 6,
   "id": "20f07049",
   "metadata": {},
   "outputs": [],
   "source": [
    "#Carregar modelo SVM\n",
    "import pickle\n",
    "filename = 'SVC_model.sav'\n",
    "modelSVC = pickle.load(open(filename, 'rb'))"
   ]
  },
  {
   "cell_type": "code",
   "execution_count": 7,
   "id": "0621af50",
   "metadata": {},
   "outputs": [],
   "source": [
    "def get_embedding(model, face):\n",
    "    faces =[]\n",
    "    # scale pixel values\n",
    "    face = face.astype('float32')\n",
    "    # standardization\n",
    "    mean, std = face.mean(), face.std()\n",
    "    face = (face-mean)/std\n",
    "    # transfer face into one sample (3 dimension to 4 dimension)\n",
    "    sample = np.expand_dims(face, axis=0)\n",
    "    # make prediction to get embedding\n",
    "    yhat = model.predict(sample)\n",
    "    \n",
    "    return yhat"
   ]
  },
  {
   "cell_type": "code",
   "execution_count": 8,
   "id": "b97b5f6d",
   "metadata": {},
   "outputs": [],
   "source": [
    "detectorFace = cv2.CascadeClassifier(\"haarcascade_frontalface_default.xml\")\n",
    "largura, altura = 160, 160\n",
    "font = cv2.FONT_HERSHEY_COMPLEX_SMALL\n",
    "camera = cv2.VideoCapture(0)\n",
    "\n",
    "while (True):\n",
    "    conectado, imagem = camera.read()\n",
    "    imagemFace = cv2.cvtColor(imagem, cv2.COLOR_BGR2RGB)\n",
    "    facesDetectadas = detectorFace.detectMultiScale(imagemFace, scaleFactor=1.5, minSize=(30,30))\n",
    "    for (x, y, l, a) in facesDetectadas:\n",
    "        imagemFace1 = cv2.resize(imagemFace[y:y + a, x:x + l], (largura, altura))\n",
    "        cv2.rectangle(imagem, (x, y), (x + l, y + a), (0,255,0), 2)\n",
    "        \n",
    "        #embedding\n",
    "        face = get_embedding(model, imagemFace1)\n",
    "\n",
    "        \n",
    "        #Normilize\n",
    "        in_encoder = Normalizer()\n",
    "        emdTrainX_norm = in_encoder.transform(face)\n",
    "        \n",
    "        #Predict\n",
    "        yhat = modelSVC.predict(emdTrainX_norm)\n",
    "        \n",
    "        #id, confianca = reconhecedor.predict(imagemFace)\n",
    "        nome = \"\"\n",
    "        if yhat[0] == 0:\n",
    "            nome = 'Renato'\n",
    "        elif yhat[0] == 1:\n",
    "            nome = 'Leticia'\n",
    "        elif yhat[0] == 2:\n",
    "            nome = 'Natalia'\n",
    "        else :\n",
    "            nome = 'Zé Mané'\n",
    "            \n",
    "        cv2.putText(imagem, nome, (x,y +(a+30)), font, 2, (0,255,0))\n",
    "\n",
    "    cv2.imshow(\"Face\", imagem)\n",
    "    if cv2.waitKey(1) == ord('q'):\n",
    "        break\n",
    "\n",
    "camera.release()\n",
    "cv2.destroyAllWindows()"
   ]
  },
  {
   "cell_type": "code",
   "execution_count": null,
   "id": "887d35c2",
   "metadata": {},
   "outputs": [],
   "source": []
  }
 ],
 "metadata": {
  "kernelspec": {
   "display_name": "Python 3",
   "language": "python",
   "name": "python3"
  },
  "language_info": {
   "codemirror_mode": {
    "name": "ipython",
    "version": 3
   },
   "file_extension": ".py",
   "mimetype": "text/x-python",
   "name": "python",
   "nbconvert_exporter": "python",
   "pygments_lexer": "ipython3",
   "version": "3.6.13"
  }
 },
 "nbformat": 4,
 "nbformat_minor": 5
}
